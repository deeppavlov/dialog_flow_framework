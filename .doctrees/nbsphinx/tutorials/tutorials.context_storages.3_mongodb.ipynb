{
 "cells": [
  {
   "cell_type": "markdown",
   "id": "6051907a",
   "metadata": {
    "cell_marker": "\"\"\""
   },
   "source": [
    "# 3. MongoDB\n",
    "\n",
    "This is a tutorial on using MongoDB.\n",
    "\n",
    "See [MongoContextStorage](../apiref/dff.context_storages.mongo.rst#dff.context_storages.mongo.MongoContextStorage) class\n",
    "for storing you users' contexts in Mongo database.\n",
    "\n",
    "DFF uses [motor](https://motor.readthedocs.io/en/stable/)\n",
    "library for asynchronous access to MongoDB."
   ]
  },
  {
   "cell_type": "code",
   "execution_count": 1,
   "id": "8c15ce31",
   "metadata": {
    "execution": {
     "iopub.execute_input": "2024-03-01T19:57:22.699247Z",
     "iopub.status.busy": "2024-03-01T19:57:22.699025Z",
     "iopub.status.idle": "2024-03-01T19:57:24.876923Z",
     "shell.execute_reply": "2024-03-01T19:57:24.875897Z"
    }
   },
   "outputs": [
    {
     "name": "stdout",
     "output_type": "stream",
     "text": [
      "Note: you may need to restart the kernel to use updated packages.\n"
     ]
    }
   ],
   "source": [
    "# installing dependencies\n",
    "%pip install -q dff[mongodb]"
   ]
  },
  {
   "cell_type": "code",
   "execution_count": 2,
   "id": "dc85c545",
   "metadata": {
    "execution": {
     "iopub.execute_input": "2024-03-01T19:57:24.879873Z",
     "iopub.status.busy": "2024-03-01T19:57:24.879654Z",
     "iopub.status.idle": "2024-03-01T19:57:25.529808Z",
     "shell.execute_reply": "2024-03-01T19:57:25.529188Z"
    },
    "lines_to_next_cell": 2
   },
   "outputs": [],
   "source": [
    "import os\n",
    "\n",
    "from dff.context_storages import context_storage_factory\n",
    "\n",
    "from dff.pipeline import Pipeline\n",
    "from dff.utils.testing.common import (\n",
    "    check_happy_path,\n",
    "    is_interactive_mode,\n",
    "    run_interactive_mode,\n",
    ")\n",
    "from dff.utils.testing.toy_script import TOY_SCRIPT_ARGS, HAPPY_PATH"
   ]
  },
  {
   "cell_type": "code",
   "execution_count": 3,
   "id": "1576848c",
   "metadata": {
    "execution": {
     "iopub.execute_input": "2024-03-01T19:57:25.533613Z",
     "iopub.status.busy": "2024-03-01T19:57:25.532902Z",
     "iopub.status.idle": "2024-03-01T19:57:25.589559Z",
     "shell.execute_reply": "2024-03-01T19:57:25.588861Z"
    },
    "lines_to_next_cell": 2
   },
   "outputs": [],
   "source": [
    "db_uri = \"mongodb://{}:{}@localhost:27017/{}\".format(\n",
    "    os.environ[\"MONGO_INITDB_ROOT_USERNAME\"],\n",
    "    os.environ[\"MONGO_INITDB_ROOT_PASSWORD\"],\n",
    "    os.environ[\"MONGO_INITDB_ROOT_USERNAME\"],\n",
    ")\n",
    "db = context_storage_factory(db_uri)\n",
    "\n",
    "pipeline = Pipeline.from_script(*TOY_SCRIPT_ARGS, context_storage=db)"
   ]
  },
  {
   "cell_type": "code",
   "execution_count": 4,
   "id": "0d6282e9",
   "metadata": {
    "execution": {
     "iopub.execute_input": "2024-03-01T19:57:25.592555Z",
     "iopub.status.busy": "2024-03-01T19:57:25.592302Z",
     "iopub.status.idle": "2024-03-01T19:57:25.629605Z",
     "shell.execute_reply": "2024-03-01T19:57:25.628863Z"
    }
   },
   "outputs": [
    {
     "name": "stdout",
     "output_type": "stream",
     "text": [
      "(user) >>> text='Hi'\n",
      " (bot) <<< text='Hi, how are you?'\n",
      "(user) >>> text='i'm fine, how are you?'\n",
      " (bot) <<< text='Good. What do you want to talk about?'\n",
      "(user) >>> text='Let's talk about music.'\n",
      " (bot) <<< text='Sorry, I can not talk about music now.'\n",
      "(user) >>> text='Ok, goodbye.'\n",
      " (bot) <<< text='bye'\n",
      "(user) >>> text='Hi'\n",
      " (bot) <<< text='Hi, how are you?'\n"
     ]
    }
   ],
   "source": [
    "if __name__ == \"__main__\":\n",
    "    check_happy_path(pipeline, HAPPY_PATH)\n",
    "    if is_interactive_mode():\n",
    "        run_interactive_mode(pipeline)"
   ]
  }
 ],
 "metadata": {
  "jupytext": {
   "cell_metadata_filter": "-all",
   "main_language": "python",
   "notebook_metadata_filter": "-all",
   "text_representation": {
    "extension": ".py",
    "format_name": "percent"
   }
  },
  "language_info": {
   "codemirror_mode": {
    "name": "ipython",
    "version": 3
   },
   "file_extension": ".py",
   "mimetype": "text/x-python",
   "name": "python",
   "nbconvert_exporter": "python",
   "pygments_lexer": "ipython3",
   "version": "3.9.18"
  }
 },
 "nbformat": 4,
 "nbformat_minor": 5
}
