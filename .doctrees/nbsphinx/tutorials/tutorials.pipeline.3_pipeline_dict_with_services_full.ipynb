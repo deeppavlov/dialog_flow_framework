{
 "cells": [
  {
   "cell_type": "markdown",
   "id": "46898939",
   "metadata": {
    "cell_marker": "\"\"\""
   },
   "source": [
    "# 3. Pipeline dict with services (full)\n",
    "\n",
    "The following tutorial shows `pipeline` creation from dict\n",
    "and most important pipeline components.\n",
    "\n",
    "This tutorial is a more advanced version of the\n",
    "[previous tutorial](\n",
    "../tutorials/tutorials.pipeline.3_pipeline_dict_with_services_basic.py\n",
    ")."
   ]
  },
  {
   "cell_type": "code",
   "execution_count": 1,
   "id": "6a86ce76",
   "metadata": {
    "execution": {
     "iopub.execute_input": "2024-03-01T19:59:12.853291Z",
     "iopub.status.busy": "2024-03-01T19:59:12.853072Z",
     "iopub.status.idle": "2024-03-01T19:59:15.102638Z",
     "shell.execute_reply": "2024-03-01T19:59:15.101774Z"
    }
   },
   "outputs": [
    {
     "name": "stdout",
     "output_type": "stream",
     "text": [
      "Note: you may need to restart the kernel to use updated packages.\n"
     ]
    }
   ],
   "source": [
    "# installing dependencies\n",
    "%pip install -q dff"
   ]
  },
  {
   "cell_type": "code",
   "execution_count": 2,
   "id": "80ae2f4b",
   "metadata": {
    "execution": {
     "iopub.execute_input": "2024-03-01T19:59:15.105777Z",
     "iopub.status.busy": "2024-03-01T19:59:15.105235Z",
     "iopub.status.idle": "2024-03-01T19:59:15.779093Z",
     "shell.execute_reply": "2024-03-01T19:59:15.778432Z"
    },
    "lines_to_next_cell": 2
   },
   "outputs": [],
   "source": [
    "import json\n",
    "import logging\n",
    "import urllib.request\n",
    "\n",
    "from dff.script import Context\n",
    "from dff.messengers.common import CLIMessengerInterface\n",
    "from dff.pipeline import Service, Pipeline, ServiceRuntimeInfo, ACTOR\n",
    "from dff.utils.testing.common import (\n",
    "    check_happy_path,\n",
    "    is_interactive_mode,\n",
    "    run_interactive_mode,\n",
    ")\n",
    "\n",
    "from dff.utils.testing.toy_script import TOY_SCRIPT, HAPPY_PATH\n",
    "\n",
    "logger = logging.getLogger(__name__)"
   ]
  },
  {
   "cell_type": "markdown",
   "id": "156cfbe3",
   "metadata": {
    "cell_marker": "\"\"\""
   },
   "source": [
    "When Pipeline is created using `from_dict` method,\n",
    "pipeline should be defined as `PipelineBuilder` objects\n",
    "(defined in `types` module).\n",
    "These objects are dictionaries of particular structure:\n",
    "\n",
    "* `messenger_interface` - `MessengerInterface` instance,\n",
    "        is used to connect to channel and transfer IO to user.\n",
    "* `context_storage` - Place to store dialog contexts\n",
    "        (dictionary or a `DBContextStorage` instance).\n",
    "* `services` (required) - A `ServiceGroupBuilder` object,\n",
    "        basically a list of `ServiceBuilder` or `ServiceGroupBuilder` objects,\n",
    "        see tutorial 4.\n",
    "* `wrappers` - A list of pipeline wrappers, see tutorial 7.\n",
    "* `timeout` - Pipeline timeout, see tutorial 5.\n",
    "* `optimization_warnings` - Whether pipeline asynchronous structure\n",
    "        should be checked during initialization,\n",
    "        see tutorial 5.\n",
    "\n",
    "On pipeline execution services from `services` list are run\n",
    "without difference between pre- and postprocessors.\n",
    "If \"ACTOR\" constant is not found among `services` pipeline creation fails.\n",
    "There can be only one \"ACTOR\" constant in the pipeline.\n",
    "ServiceBuilder object can be defined either with callable (see tutorial 2) or\n",
    "with dict of structure / object with following constructor arguments:\n",
    "\n",
    "* `handler` (required) - ServiceBuilder,\n",
    "        if handler is an object or a dict itself,\n",
    "        it will be used instead of base ServiceBuilder.\n",
    "    NB! Fields of nested ServiceBuilder will be overridden\n",
    "        by defined fields of the base ServiceBuilder.\n",
    "* `wrappers` - a list of service wrappers, see tutorial 7.\n",
    "* `timeout` - service timeout, see tutorial 5.\n",
    "* `asynchronous` - whether or not this service _should_ be asynchronous\n",
    "        (keep in mind that not all services _can_ be asynchronous),\n",
    "        see tutorial 5.\n",
    "* `start_condition` - service start condition, see tutorial 4.\n",
    "* `name` - custom defined name for the service\n",
    "        (keep in mind that names in one ServiceGroup should be unique),\n",
    "        see tutorial 4.\n",
    "\n",
    "Not only Pipeline can be run using `__call__` method,\n",
    "for most cases `run` method should be used.\n",
    "It starts pipeline asynchronously and connects to provided messenger interface.\n",
    "\n",
    "Here pipeline contains 4 services,\n",
    "defined in 4 different ways with different signatures.\n",
    "First two of them write sample feature detection data to `ctx.misc`.\n",
    "The first uses a constant expression and the second fetches from `example.com`.\n",
    "Third one is \"ACTOR\" constant (it acts like a _special_ service here).\n",
    "Final service logs `ctx.misc` dict."
   ]
  },
  {
   "cell_type": "code",
   "execution_count": 3,
   "id": "1130bed4",
   "metadata": {
    "execution": {
     "iopub.execute_input": "2024-03-01T19:59:15.782363Z",
     "iopub.status.busy": "2024-03-01T19:59:15.782027Z",
     "iopub.status.idle": "2024-03-01T19:59:15.788714Z",
     "shell.execute_reply": "2024-03-01T19:59:15.788067Z"
    }
   },
   "outputs": [],
   "source": [
    "def prepreprocess(ctx: Context):\n",
    "    logger.info(\n",
    "        \"preprocession intent-detection Service running (defined as a dict)\"\n",
    "    )\n",
    "    ctx.misc[\"preprocess_detection\"] = {\n",
    "        ctx.last_request.text: \"some_intent\"\n",
    "    }  # Similar syntax can be used to access\n",
    "    # service output dedicated to current pipeline run\n",
    "\n",
    "\n",
    "def preprocess(ctx: Context, _, info: ServiceRuntimeInfo):\n",
    "    logger.info(\n",
    "        f\"another preprocession web-based annotator Service\"\n",
    "        f\"(defined as a callable), named '{info.name}'\"\n",
    "    )\n",
    "    with urllib.request.urlopen(\"https://example.com/\") as webpage:\n",
    "        web_content = webpage.read().decode(\n",
    "            webpage.headers.get_content_charset()\n",
    "        )\n",
    "        ctx.misc[\"another_detection\"] = {\n",
    "            ctx.last_request.text: (\n",
    "                \"online\" if \"Example Domain\" in web_content else \"offline\"\n",
    "            )\n",
    "        }\n",
    "\n",
    "\n",
    "def postprocess(ctx: Context, pl: Pipeline):\n",
    "    logger.info(\"postprocession Service (defined as an object)\")\n",
    "    logger.info(\n",
    "        f\"resulting misc looks like:\"\n",
    "        f\"{json.dumps(ctx.misc, indent=4, default=str)}\"\n",
    "    )\n",
    "    fallback_flow, fallback_node, _ = pl.actor.fallback_label\n",
    "    received_response = pl.script[fallback_flow][fallback_node].response\n",
    "    responses_match = received_response == ctx.last_response\n",
    "    logger.info(f\"actor is{'' if responses_match else ' not'} in fallback node\")"
   ]
  },
  {
   "cell_type": "code",
   "execution_count": 4,
   "id": "39a8db34",
   "metadata": {
    "execution": {
     "iopub.execute_input": "2024-03-01T19:59:15.791490Z",
     "iopub.status.busy": "2024-03-01T19:59:15.791009Z",
     "iopub.status.idle": "2024-03-01T19:59:15.795640Z",
     "shell.execute_reply": "2024-03-01T19:59:15.795006Z"
    },
    "lines_to_next_cell": 2
   },
   "outputs": [],
   "source": [
    "pipeline_dict = {\n",
    "    \"script\": TOY_SCRIPT,\n",
    "    \"start_label\": (\"greeting_flow\", \"start_node\"),\n",
    "    \"fallback_label\": (\"greeting_flow\", \"fallback_node\"),\n",
    "    \"messenger_interface\": CLIMessengerInterface(\n",
    "        intro=\"Hi, this is a brand new Pipeline running!\",\n",
    "        prompt_request=\"Request: \",\n",
    "        prompt_response=\"Response: \",\n",
    "    ),  # `CLIMessengerInterface` has the following constructor parameters:\n",
    "    #     `intro` - a string that will be displayed\n",
    "    #           on connection to interface (on `pipeline.run`)\n",
    "    #     `prompt_request` - a string that will be displayed before user input\n",
    "    #     `prompt_response` - an output prefix string\n",
    "    \"context_storage\": {},\n",
    "    \"components\": [\n",
    "        {\n",
    "            \"handler\": {\n",
    "                \"handler\": prepreprocess,\n",
    "                \"name\": \"silly_service_name\",\n",
    "            },\n",
    "            \"name\": \"preprocessor\",\n",
    "        },  # This service will be named `preprocessor`\n",
    "        # handler name will be overridden\n",
    "        preprocess,\n",
    "        ACTOR,\n",
    "        Service(\n",
    "            handler=postprocess,\n",
    "            name=\"postprocessor\",\n",
    "        ),\n",
    "    ],\n",
    "}"
   ]
  },
  {
   "cell_type": "code",
   "execution_count": 5,
   "id": "5ddfef0b",
   "metadata": {
    "execution": {
     "iopub.execute_input": "2024-03-01T19:59:15.798275Z",
     "iopub.status.busy": "2024-03-01T19:59:15.797900Z",
     "iopub.status.idle": "2024-03-01T19:59:15.880971Z",
     "shell.execute_reply": "2024-03-01T19:59:15.880246Z"
    }
   },
   "outputs": [
    {
     "name": "stdout",
     "output_type": "stream",
     "text": [
      "(user) >>> text='Hi'\n",
      " (bot) <<< text='Hi, how are you?'\n",
      "(user) >>> text='i'm fine, how are you?'\n",
      " (bot) <<< text='Good. What do you want to talk about?'\n",
      "(user) >>> text='Let's talk about music.'\n",
      " (bot) <<< text='Sorry, I can not talk about music now.'\n",
      "(user) >>> text='Ok, goodbye.'\n",
      " (bot) <<< text='bye'\n",
      "(user) >>> text='Hi'\n",
      " (bot) <<< text='Hi, how are you?'\n"
     ]
    }
   ],
   "source": [
    "pipeline = Pipeline.from_dict(pipeline_dict)\n",
    "\n",
    "if __name__ == \"__main__\":\n",
    "    check_happy_path(pipeline, HAPPY_PATH)\n",
    "    if is_interactive_mode():\n",
    "        run_interactive_mode(pipeline)"
   ]
  }
 ],
 "metadata": {
  "jupytext": {
   "cell_metadata_filter": "-all",
   "main_language": "python",
   "notebook_metadata_filter": "-all",
   "text_representation": {
    "extension": ".py",
    "format_name": "percent"
   }
  },
  "language_info": {
   "codemirror_mode": {
    "name": "ipython",
    "version": 3
   },
   "file_extension": ".py",
   "mimetype": "text/x-python",
   "name": "python",
   "nbconvert_exporter": "python",
   "pygments_lexer": "ipython3",
   "version": "3.9.18"
  }
 },
 "nbformat": 4,
 "nbformat_minor": 5
}
