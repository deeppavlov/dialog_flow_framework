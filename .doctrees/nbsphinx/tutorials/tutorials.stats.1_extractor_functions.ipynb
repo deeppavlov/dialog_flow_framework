{
 "cells": [
  {
   "cell_type": "markdown",
   "id": "66728209",
   "metadata": {
    "cell_marker": "\"\"\""
   },
   "source": [
    "# 1. Extractor Functions\n",
    "\n",
    "The following example covers the basics of using the `stats` module.\n",
    "\n",
    "Statistics are collected from pipeline services by extractor functions\n",
    "that report the state of one or more pipeline components. The `stats` module\n",
    "provides several default extractors, but users are free to define their own\n",
    "extractor functions. You can find API reference for default extractors\n",
    "[here](../apiref/dff.stats.default_extractors.rst).\n",
    "\n",
    "It is a preferred practice to define extractors as asynchronous functions.\n",
    "Extractors need to have the following uniform signature:\n",
    "the expected arguments are always `Context`,\n",
    "`Pipeline`, and `ExtraHandlerRuntimeInfo`,\n",
    "while the expected return value is an arbitrary `dict` or a `None`.\n",
    "The returned value gets persisted to Clickhouse as JSON\n",
    "which is why it can contain arbitrarily nested dictionaries,\n",
    "but it cannot contain any complex objects that cannot be trivially serialized.\n",
    "\n",
    "The output of these functions will be captured by an OpenTelemetry\n",
    "instrumentor and directed to the Opentelemetry collector server which\n",
    "in its turn batches and persists data to Clickhouse or other OLAP storages.\n",
    "\n",
    "<div class=\"alert alert-info\">\n",
    "\n",
    "Both the Opentelemetry collector and the Clickhouse instance must be running\n",
    "during statistics collection.\n",
    "If you cloned the DFF repo, launch them using `docker compose`:\n",
    "```bash\n",
    "docker compose --profile stats up\n",
    "```\n",
    "\n",
    "</div>\n",
    "\n",
    "For more information on OpenTelemetry instrumentation,\n",
    "refer to the body of this tutorial as well as [OpenTelemetry documentation](\n",
    "https://opentelemetry.io/docs/instrumentation/python/manual/\n",
    ")."
   ]
  },
  {
   "cell_type": "code",
   "execution_count": 1,
   "id": "0a28e936",
   "metadata": {
    "execution": {
     "iopub.execute_input": "2024-03-01T20:00:49.392073Z",
     "iopub.status.busy": "2024-03-01T20:00:49.391770Z",
     "iopub.status.idle": "2024-03-01T20:00:51.963001Z",
     "shell.execute_reply": "2024-03-01T20:00:51.961985Z"
    }
   },
   "outputs": [
    {
     "name": "stdout",
     "output_type": "stream",
     "text": [
      "Note: you may need to restart the kernel to use updated packages.\n"
     ]
    }
   ],
   "source": [
    "# installing dependencies\n",
    "%pip install -q dff[stats]"
   ]
  },
  {
   "cell_type": "code",
   "execution_count": 2,
   "id": "ed6e5d81",
   "metadata": {
    "execution": {
     "iopub.execute_input": "2024-03-01T20:00:51.966967Z",
     "iopub.status.busy": "2024-03-01T20:00:51.966642Z",
     "iopub.status.idle": "2024-03-01T20:00:52.825526Z",
     "shell.execute_reply": "2024-03-01T20:00:52.824861Z"
    },
    "lines_to_next_cell": 2
   },
   "outputs": [],
   "source": [
    "import asyncio\n",
    "\n",
    "from dff.script import Context\n",
    "from dff.pipeline import (\n",
    "    Pipeline,\n",
    "    ACTOR,\n",
    "    Service,\n",
    "    ExtraHandlerRuntimeInfo,\n",
    "    to_service,\n",
    ")\n",
    "from dff.utils.testing.toy_script import TOY_SCRIPT, HAPPY_PATH\n",
    "from dff.stats import OtelInstrumentor, default_extractors\n",
    "from dff.utils.testing import is_interactive_mode, check_happy_path"
   ]
  },
  {
   "cell_type": "markdown",
   "id": "9b4a9265",
   "metadata": {
    "cell_marker": "\"\"\"",
    "lines_to_next_cell": 2
   },
   "source": [
    "The cells below configure log export with the help of OTLP instrumentation.\n",
    "\n",
    "* The initial step is to configure the export destination.\n",
    "`from_url` method of the `OtelInstrumentor` class simplifies this task\n",
    "allowing you to only pass the url of the OTLP Collector server.\n",
    "\n",
    "* Alternatively, you can use the utility functions\n",
    "provided by the `stats` module:\n",
    "`set_logger_destination`, `set_tracer_destination`, or `set_meter_destination`.\n",
    "These accept an appropriate Opentelemetry exporter instance\n",
    "and bind it to provider classes.\n",
    "\n",
    "* Nextly, the `OtelInstrumentor` class should be constructed to log the output\n",
    "of extractor functions. Custom extractors need to be decorated\n",
    "with the `OtelInstrumentor` instance. Default extractors are instrumented\n",
    "by calling the `instrument` method.\n",
    "\n",
    "* The entirety of the process is illustrated in the example below."
   ]
  },
  {
   "cell_type": "code",
   "execution_count": 3,
   "id": "a3c8876b",
   "metadata": {
    "execution": {
     "iopub.execute_input": "2024-03-01T20:00:52.828677Z",
     "iopub.status.busy": "2024-03-01T20:00:52.828306Z",
     "iopub.status.idle": "2024-03-01T20:00:52.836131Z",
     "shell.execute_reply": "2024-03-01T20:00:52.835582Z"
    }
   },
   "outputs": [],
   "source": [
    "dff_instrumentor = OtelInstrumentor.from_url(\"grpc://localhost:4317\")\n",
    "dff_instrumentor.instrument()"
   ]
  },
  {
   "cell_type": "markdown",
   "id": "8f380626",
   "metadata": {
    "cell_marker": "\"\"\"",
    "lines_to_next_cell": 2
   },
   "source": [
    "The following cell shows a custom extractor function. The data obtained from\n",
    "the context and the runtime information gets shaped as a dict and returned\n",
    "from the function body. The `dff_instrumentor` decorator then ensures\n",
    "that the output is logged by OpenTelemetry."
   ]
  },
  {
   "cell_type": "code",
   "execution_count": 4,
   "id": "160f5185",
   "metadata": {
    "execution": {
     "iopub.execute_input": "2024-03-01T20:00:52.839081Z",
     "iopub.status.busy": "2024-03-01T20:00:52.838564Z",
     "iopub.status.idle": "2024-03-01T20:00:52.842196Z",
     "shell.execute_reply": "2024-03-01T20:00:52.841651Z"
    },
    "lines_to_next_cell": 2
   },
   "outputs": [],
   "source": [
    "# decorated by an OTLP Instrumentor instance\n",
    "@dff_instrumentor\n",
    "async def get_service_state(ctx: Context, _, info: ExtraHandlerRuntimeInfo):\n",
    "    # extract the execution state of a target service\n",
    "    data = {\n",
    "        \"execution_state\": info.component.execution_state,\n",
    "    }\n",
    "    # return the state as an arbitrary dict for further logging\n",
    "    return data"
   ]
  },
  {
   "cell_type": "code",
   "execution_count": 5,
   "id": "f1942b83",
   "metadata": {
    "execution": {
     "iopub.execute_input": "2024-03-01T20:00:52.844650Z",
     "iopub.status.busy": "2024-03-01T20:00:52.844393Z",
     "iopub.status.idle": "2024-03-01T20:00:52.847828Z",
     "shell.execute_reply": "2024-03-01T20:00:52.847213Z"
    },
    "lines_to_next_cell": 2
   },
   "outputs": [],
   "source": [
    "# configure `get_service_state` to run after the `heavy_service`\n",
    "@to_service(after_handler=[get_service_state])\n",
    "async def heavy_service(ctx: Context):\n",
    "    _ = ctx  # get something from ctx if needed\n",
    "    await asyncio.sleep(0.02)"
   ]
  },
  {
   "cell_type": "code",
   "execution_count": 6,
   "id": "a7e9d481",
   "metadata": {
    "execution": {
     "iopub.execute_input": "2024-03-01T20:00:52.850441Z",
     "iopub.status.busy": "2024-03-01T20:00:52.850069Z",
     "iopub.status.idle": "2024-03-01T20:00:52.970004Z",
     "shell.execute_reply": "2024-03-01T20:00:52.969187Z"
    }
   },
   "outputs": [
    {
     "name": "stdout",
     "output_type": "stream",
     "text": [
      "(user) >>> text='Hi'\n",
      " (bot) <<< text='Hi, how are you?'\n",
      "(user) >>> text='i'm fine, how are you?'\n",
      " (bot) <<< text='Good. What do you want to talk about?'\n",
      "(user) >>> text='Let's talk about music.'\n",
      " (bot) <<< text='Sorry, I can not talk about music now.'\n",
      "(user) >>> text='Ok, goodbye.'\n",
      " (bot) <<< text='bye'\n",
      "(user) >>> text='Hi'\n",
      " (bot) <<< text='Hi, how are you?'\n"
     ]
    }
   ],
   "source": [
    "pipeline = Pipeline.from_dict(\n",
    "    {\n",
    "        \"script\": TOY_SCRIPT,\n",
    "        \"start_label\": (\"greeting_flow\", \"start_node\"),\n",
    "        \"fallback_label\": (\"greeting_flow\", \"fallback_node\"),\n",
    "        \"components\": [\n",
    "            heavy_service,\n",
    "            Service(\n",
    "                handler=ACTOR,\n",
    "                after_handler=[default_extractors.get_current_label],\n",
    "            ),\n",
    "        ],\n",
    "    }\n",
    ")\n",
    "\n",
    "\n",
    "if __name__ == \"__main__\":\n",
    "    check_happy_path(pipeline, HAPPY_PATH)\n",
    "    if is_interactive_mode():\n",
    "        pipeline.run()"
   ]
  }
 ],
 "metadata": {
  "jupytext": {
   "cell_metadata_filter": "-all",
   "main_language": "python",
   "notebook_metadata_filter": "-all",
   "text_representation": {
    "extension": ".py",
    "format_name": "percent"
   }
  },
  "language_info": {
   "codemirror_mode": {
    "name": "ipython",
    "version": 3
   },
   "file_extension": ".py",
   "mimetype": "text/x-python",
   "name": "python",
   "nbconvert_exporter": "python",
   "pygments_lexer": "ipython3",
   "version": "3.9.18"
  }
 },
 "nbformat": 4,
 "nbformat_minor": 5
}
