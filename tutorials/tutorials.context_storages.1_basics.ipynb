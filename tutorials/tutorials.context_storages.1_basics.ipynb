{
 "cells": [
  {
   "cell_type": "markdown",
   "id": "8f6b36e1",
   "metadata": {
    "cell_marker": "\"\"\""
   },
   "source": [
    "# 1. Basics\n",
    "\n",
    "The following tutorial shows the basic use of the database connection.\n",
    "\n",
    "See [context_storage_factory](../apiref/dff.context_storages.database.rst#dff.context_storages.database.context_storage_factory) function\n",
    "for creating a context storage by path.\n",
    "\n",
    "In this example JSON file is used as a storage."
   ]
  },
  {
   "cell_type": "code",
   "execution_count": 1,
   "id": "0577f3f1",
   "metadata": {
    "execution": {
     "iopub.execute_input": "2024-03-01T19:57:13.436871Z",
     "iopub.status.busy": "2024-03-01T19:57:13.436240Z",
     "iopub.status.idle": "2024-03-01T19:57:15.794020Z",
     "shell.execute_reply": "2024-03-01T19:57:15.793243Z"
    }
   },
   "outputs": [
    {
     "name": "stdout",
     "output_type": "stream",
     "text": [
      "Note: you may need to restart the kernel to use updated packages.\n"
     ]
    }
   ],
   "source": [
    "# installing dependencies\n",
    "%pip install -q dff[json,pickle]"
   ]
  },
  {
   "cell_type": "code",
   "execution_count": 2,
   "id": "eac564b8",
   "metadata": {
    "execution": {
     "iopub.execute_input": "2024-03-01T19:57:15.798717Z",
     "iopub.status.busy": "2024-03-01T19:57:15.798035Z",
     "iopub.status.idle": "2024-03-01T19:57:16.487737Z",
     "shell.execute_reply": "2024-03-01T19:57:16.486992Z"
    }
   },
   "outputs": [
    {
     "name": "stdout",
     "output_type": "stream",
     "text": [
      "(user) >>> text='Hi'\n",
      " (bot) <<< text='Hi, how are you?'\n",
      "(user) >>> text='i'm fine, how are you?'\n",
      " (bot) <<< text='Good. What do you want to talk about?'\n",
      "(user) >>> text='Let's talk about music.'\n",
      " (bot) <<< text='Sorry, I can not talk about music now.'\n",
      "(user) >>> text='Ok, goodbye.'\n",
      " (bot) <<< text='bye'\n",
      "(user) >>> text='Hi'\n",
      " (bot) <<< text='Hi, how are you?'\n"
     ]
    }
   ],
   "source": [
    "import pathlib\n",
    "\n",
    "from dff.context_storages import context_storage_factory\n",
    "\n",
    "from dff.pipeline import Pipeline\n",
    "from dff.utils.testing.common import (\n",
    "    check_happy_path,\n",
    "    is_interactive_mode,\n",
    "    run_interactive_mode,\n",
    ")\n",
    "from dff.utils.testing.toy_script import TOY_SCRIPT_ARGS, HAPPY_PATH\n",
    "\n",
    "pathlib.Path(\"dbs\").mkdir(exist_ok=True)\n",
    "db = context_storage_factory(\"json://dbs/file.json\")\n",
    "# db = context_storage_factory(\"pickle://dbs/file.pkl\")\n",
    "# db = context_storage_factory(\"shelve://dbs/file\")\n",
    "\n",
    "pipeline = Pipeline.from_script(*TOY_SCRIPT_ARGS, context_storage=db)\n",
    "\n",
    "if __name__ == \"__main__\":\n",
    "    check_happy_path(pipeline, HAPPY_PATH)\n",
    "    # a function for automatic tutorial running (testing) with HAPPY_PATH\n",
    "\n",
    "    # This runs tutorial in interactive mode if not in IPython env\n",
    "    # and if `DISABLE_INTERACTIVE_MODE` is not set\n",
    "    if is_interactive_mode():\n",
    "        run_interactive_mode(pipeline)  # This runs tutorial in interactive mode"
   ]
  }
 ],
 "metadata": {
  "jupytext": {
   "cell_metadata_filter": "-all",
   "main_language": "python",
   "notebook_metadata_filter": "-all",
   "text_representation": {
    "extension": ".py",
    "format_name": "percent"
   }
  },
  "language_info": {
   "codemirror_mode": {
    "name": "ipython",
    "version": 3
   },
   "file_extension": ".py",
   "mimetype": "text/x-python",
   "name": "python",
   "nbconvert_exporter": "python",
   "pygments_lexer": "ipython3",
   "version": "3.9.18"
  }
 },
 "nbformat": 4,
 "nbformat_minor": 5
}
