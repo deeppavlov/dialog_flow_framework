{
 "cells": [
  {
   "cell_type": "markdown",
   "id": "df0140e4",
   "metadata": {
    "cell_marker": "\"\"\""
   },
   "source": [
    "# 2. PostgreSQL\n",
    "\n",
    "This is a tutorial on using PostgreSQL.\n",
    "\n",
    "See [SQLContextStorage](../apiref/dff.context_storages.sql.rst#dff.context_storages.sql.SQLContextStorage) class\n",
    "for storing your users' contexts in SQL databases.\n",
    "\n",
    "DFF uses [sqlalchemy](https://docs.sqlalchemy.org/en/20/)\n",
    "and [asyncpg](https://magicstack.github.io/asyncpg/current/)\n",
    "libraries for asynchronous access to PostgreSQL DB."
   ]
  },
  {
   "cell_type": "code",
   "execution_count": 1,
   "id": "dceb1d4e",
   "metadata": {
    "execution": {
     "iopub.execute_input": "2024-03-01T19:57:18.049963Z",
     "iopub.status.busy": "2024-03-01T19:57:18.049366Z",
     "iopub.status.idle": "2024-03-01T19:57:20.230394Z",
     "shell.execute_reply": "2024-03-01T19:57:20.229521Z"
    }
   },
   "outputs": [
    {
     "name": "stdout",
     "output_type": "stream",
     "text": [
      "Note: you may need to restart the kernel to use updated packages.\n"
     ]
    }
   ],
   "source": [
    "# installing dependencies\n",
    "%pip install -q dff[postgresql]"
   ]
  },
  {
   "cell_type": "code",
   "execution_count": 2,
   "id": "24a72144",
   "metadata": {
    "execution": {
     "iopub.execute_input": "2024-03-01T19:57:20.233576Z",
     "iopub.status.busy": "2024-03-01T19:57:20.233165Z",
     "iopub.status.idle": "2024-03-01T19:57:20.927549Z",
     "shell.execute_reply": "2024-03-01T19:57:20.926741Z"
    },
    "lines_to_next_cell": 2
   },
   "outputs": [],
   "source": [
    "import os\n",
    "\n",
    "from dff.context_storages import context_storage_factory\n",
    "\n",
    "from dff.pipeline import Pipeline\n",
    "from dff.utils.testing.common import (\n",
    "    check_happy_path,\n",
    "    is_interactive_mode,\n",
    "    run_interactive_mode,\n",
    ")\n",
    "from dff.utils.testing.toy_script import TOY_SCRIPT_ARGS, HAPPY_PATH"
   ]
  },
  {
   "cell_type": "code",
   "execution_count": 3,
   "id": "f577a583",
   "metadata": {
    "execution": {
     "iopub.execute_input": "2024-03-01T19:57:20.931511Z",
     "iopub.status.busy": "2024-03-01T19:57:20.930739Z",
     "iopub.status.idle": "2024-03-01T19:57:21.085876Z",
     "shell.execute_reply": "2024-03-01T19:57:21.085008Z"
    },
    "lines_to_next_cell": 2
   },
   "outputs": [],
   "source": [
    "db_uri = \"postgresql+asyncpg://{}:{}@localhost:5432/{}\".format(\n",
    "    os.environ[\"POSTGRES_USERNAME\"],\n",
    "    os.environ[\"POSTGRES_PASSWORD\"],\n",
    "    os.environ[\"POSTGRES_DB\"],\n",
    ")\n",
    "db = context_storage_factory(db_uri)\n",
    "\n",
    "\n",
    "pipeline = Pipeline.from_script(*TOY_SCRIPT_ARGS, context_storage=db)"
   ]
  },
  {
   "cell_type": "code",
   "execution_count": 4,
   "id": "105da5aa",
   "metadata": {
    "execution": {
     "iopub.execute_input": "2024-03-01T19:57:21.089097Z",
     "iopub.status.busy": "2024-03-01T19:57:21.088818Z",
     "iopub.status.idle": "2024-03-01T19:57:21.128414Z",
     "shell.execute_reply": "2024-03-01T19:57:21.127466Z"
    }
   },
   "outputs": [
    {
     "name": "stdout",
     "output_type": "stream",
     "text": [
      "(user) >>> text='Hi'\n",
      " (bot) <<< text='Hi, how are you?'\n",
      "(user) >>> text='i'm fine, how are you?'\n",
      " (bot) <<< text='Good. What do you want to talk about?'\n",
      "(user) >>> text='Let's talk about music.'\n",
      " (bot) <<< text='Sorry, I can not talk about music now.'\n",
      "(user) >>> text='Ok, goodbye.'\n",
      " (bot) <<< text='bye'\n",
      "(user) >>> text='Hi'\n",
      " (bot) <<< text='Hi, how are you?'\n"
     ]
    }
   ],
   "source": [
    "if __name__ == \"__main__\":\n",
    "    check_happy_path(pipeline, HAPPY_PATH)\n",
    "    if is_interactive_mode():\n",
    "        run_interactive_mode(pipeline)"
   ]
  }
 ],
 "metadata": {
  "jupytext": {
   "cell_metadata_filter": "-all",
   "main_language": "python",
   "notebook_metadata_filter": "-all",
   "text_representation": {
    "extension": ".py",
    "format_name": "percent"
   }
  },
  "language_info": {
   "codemirror_mode": {
    "name": "ipython",
    "version": 3
   },
   "file_extension": ".py",
   "mimetype": "text/x-python",
   "name": "python",
   "nbconvert_exporter": "python",
   "pygments_lexer": "ipython3",
   "version": "3.9.18"
  }
 },
 "nbformat": 4,
 "nbformat_minor": 5
}
