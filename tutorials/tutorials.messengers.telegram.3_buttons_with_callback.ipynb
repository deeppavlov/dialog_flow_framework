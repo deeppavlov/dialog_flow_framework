{
 "cells": [
  {
   "cell_type": "markdown",
   "id": "be9bef46",
   "metadata": {
    "cell_marker": "\"\"\"",
    "lines_to_next_cell": 2
   },
   "source": [
    "# Telegram: 3. Buttons with Callback\n",
    "\n",
    "This tutorial demonstrates, how to add an inline keyboard and utilize\n",
    "inline queries.\n",
    "\n",
    "Here, [TelegramMessage](../apiref/dff.messengers.telegram.message.rst#dff.messengers.telegram.message.TelegramMessage)\n",
    "class is used to represent telegram message,\n",
    "[TelegramUI](../apiref/dff.messengers.telegram.message.rst#dff.messengers.telegram.message.TelegramUI) and\n",
    "[RemoveKeyboard](../apiref/dff.messengers.telegram.message.rst#dff.messengers.telegram.message.RemoveKeyboard)\n",
    "classes are used for configuring additional telegram message features.\n",
    "\n",
    "Different [message](../apiref/dff.script.core.message.rst#dff.script.core.message.message)\n",
    "classes are used for representing different common message features,\n",
    "like Attachment, Audio, Button, Image, etc."
   ]
  },
  {
   "cell_type": "code",
   "execution_count": 1,
   "id": "0be0fa3a",
   "metadata": {
    "execution": {
     "iopub.execute_input": "2024-03-01T19:58:06.895158Z",
     "iopub.status.busy": "2024-03-01T19:58:06.894642Z",
     "iopub.status.idle": "2024-03-01T19:58:09.248292Z",
     "shell.execute_reply": "2024-03-01T19:58:09.247392Z"
    }
   },
   "outputs": [
    {
     "name": "stdout",
     "output_type": "stream",
     "text": [
      "Note: you may need to restart the kernel to use updated packages.\n"
     ]
    }
   ],
   "source": [
    "# installing dependencies\n",
    "%pip install -q dff[telegram]"
   ]
  },
  {
   "cell_type": "code",
   "execution_count": 2,
   "id": "4ccfa7e9",
   "metadata": {
    "execution": {
     "iopub.execute_input": "2024-03-01T19:58:09.251507Z",
     "iopub.status.busy": "2024-03-01T19:58:09.251066Z",
     "iopub.status.idle": "2024-03-01T19:58:10.008075Z",
     "shell.execute_reply": "2024-03-01T19:58:10.007399Z"
    },
    "lines_to_next_cell": 2
   },
   "outputs": [],
   "source": [
    "import os\n",
    "\n",
    "import dff.script.conditions as cnd\n",
    "from dff.script import TRANSITIONS, RESPONSE\n",
    "from dff.pipeline import Pipeline\n",
    "from dff.script.core.message import Button\n",
    "from dff.messengers.telegram import (\n",
    "    PollingTelegramInterface,\n",
    "    TelegramUI,\n",
    "    TelegramMessage,\n",
    ")\n",
    "from dff.messengers.telegram.message import _ClickButton\n",
    "from dff.utils.testing.common import is_interactive_mode"
   ]
  },
  {
   "cell_type": "markdown",
   "id": "65d3e107",
   "metadata": {
    "cell_marker": "\"\"\"",
    "lines_to_next_cell": 2
   },
   "source": [
    "If you want to send an inline keyboard to your Telegram chat,\n",
    "set `is_inline` field of the `TelegramUI` instance to `True`\n",
    "(note that it is inline by default, so you could also omit it).\n",
    "\n",
    "Pushing a button of an inline keyboard results in a callback\n",
    "query being sent to your bot. The data of the query\n",
    "is stored in the `callback_query` field of a user `TelegramMessage`."
   ]
  },
  {
   "cell_type": "code",
   "execution_count": 3,
   "id": "66439023",
   "metadata": {
    "execution": {
     "iopub.execute_input": "2024-03-01T19:58:10.011532Z",
     "iopub.status.busy": "2024-03-01T19:58:10.011019Z",
     "iopub.status.idle": "2024-03-01T19:58:10.021443Z",
     "shell.execute_reply": "2024-03-01T19:58:10.020859Z"
    },
    "lines_to_next_cell": 2
   },
   "outputs": [],
   "source": [
    "script = {\n",
    "    \"root\": {\n",
    "        \"start\": {\n",
    "            TRANSITIONS: {\n",
    "                (\"general\", \"keyboard\"): (\n",
    "                    lambda ctx, _: ctx.last_request.text\n",
    "                    in (\"/start\", \"/restart\")\n",
    "                ),\n",
    "            },\n",
    "        },\n",
    "        \"fallback\": {\n",
    "            RESPONSE: TelegramMessage(\n",
    "                text=\"Finishing test, send /restart command to restart\"\n",
    "            ),\n",
    "            TRANSITIONS: {\n",
    "                (\"general\", \"keyboard\"): (\n",
    "                    lambda ctx, _: ctx.last_request.text\n",
    "                    in (\"/start\", \"/restart\")\n",
    "                )\n",
    "            },\n",
    "        },\n",
    "    },\n",
    "    \"general\": {\n",
    "        \"keyboard\": {\n",
    "            RESPONSE: TelegramMessage(\n",
    "                **{\n",
    "                    \"text\": \"Starting test! What's 9 + 10?\",\n",
    "                    \"ui\": TelegramUI(\n",
    "                        buttons=[\n",
    "                            Button(text=\"19\", payload=\"correct\"),\n",
    "                            Button(text=\"21\", payload=\"wrong\"),\n",
    "                        ],\n",
    "                        is_inline=True,\n",
    "                    ),\n",
    "                }\n",
    "            ),\n",
    "            TRANSITIONS: {\n",
    "                (\"general\", \"success\"): cnd.exact_match(\n",
    "                    TelegramMessage(callback_query=\"correct\")\n",
    "                ),\n",
    "                (\"general\", \"fail\"): cnd.exact_match(\n",
    "                    TelegramMessage(callback_query=\"wrong\")\n",
    "                ),\n",
    "            },\n",
    "        },\n",
    "        \"success\": {\n",
    "            RESPONSE: TelegramMessage(text=\"Success!\"),\n",
    "            TRANSITIONS: {(\"root\", \"fallback\"): cnd.true()},\n",
    "        },\n",
    "        \"fail\": {\n",
    "            RESPONSE: TelegramMessage(\n",
    "                text=\"Incorrect answer, type anything to try again\"\n",
    "            ),\n",
    "            TRANSITIONS: {(\"general\", \"keyboard\"): cnd.true()},\n",
    "        },\n",
    "    },\n",
    "}\n",
    "\n",
    "# this variable is only for testing\n",
    "happy_path = (\n",
    "    (\n",
    "        TelegramMessage(text=\"/start\"),\n",
    "        TelegramMessage(\n",
    "            text=\"Starting test! What's 9 + 10?\",\n",
    "            ui=TelegramUI(\n",
    "                buttons=[\n",
    "                    Button(text=\"19\", payload=\"correct\"),\n",
    "                    Button(text=\"21\", payload=\"wrong\"),\n",
    "                ],\n",
    "            ),\n",
    "        ),\n",
    "    ),\n",
    "    (\n",
    "        TelegramMessage(callback_query=_ClickButton(button_index=1)),\n",
    "        TelegramMessage(text=\"Incorrect answer, type anything to try again\"),\n",
    "    ),\n",
    "    (\n",
    "        TelegramMessage(text=\"try again\"),\n",
    "        TelegramMessage(\n",
    "            text=\"Starting test! What's 9 + 10?\",\n",
    "            ui=TelegramUI(\n",
    "                buttons=[\n",
    "                    Button(text=\"19\", payload=\"correct\"),\n",
    "                    Button(text=\"21\", payload=\"wrong\"),\n",
    "                ],\n",
    "            ),\n",
    "        ),\n",
    "    ),\n",
    "    (\n",
    "        TelegramMessage(callback_query=_ClickButton(button_index=0)),\n",
    "        TelegramMessage(text=\"Success!\"),\n",
    "    ),\n",
    "    (\n",
    "        TelegramMessage(text=\"Yay!\"),\n",
    "        TelegramMessage(\n",
    "            text=\"Finishing test, send /restart command to restart\"\n",
    "        ),\n",
    "    ),\n",
    "    (\n",
    "        TelegramMessage(text=\"/restart\"),\n",
    "        TelegramMessage(\n",
    "            text=\"Starting test! What's 9 + 10?\",\n",
    "            ui=TelegramUI(\n",
    "                buttons=[\n",
    "                    Button(text=\"19\", payload=\"correct\"),\n",
    "                    Button(text=\"21\", payload=\"wrong\"),\n",
    "                ],\n",
    "            ),\n",
    "        ),\n",
    "    ),\n",
    ")\n",
    "\n",
    "interface = PollingTelegramInterface(token=os.environ[\"TG_BOT_TOKEN\"])"
   ]
  },
  {
   "cell_type": "code",
   "execution_count": 4,
   "id": "99b3c3c7",
   "metadata": {
    "execution": {
     "iopub.execute_input": "2024-03-01T19:58:10.024371Z",
     "iopub.status.busy": "2024-03-01T19:58:10.023927Z",
     "iopub.status.idle": "2024-03-01T19:58:10.028397Z",
     "shell.execute_reply": "2024-03-01T19:58:10.027830Z"
    }
   },
   "outputs": [],
   "source": [
    "pipeline = Pipeline.from_script(\n",
    "    script=script,\n",
    "    start_label=(\"root\", \"start\"),\n",
    "    fallback_label=(\"root\", \"fallback\"),\n",
    "    messenger_interface=interface,\n",
    ")\n",
    "\n",
    "\n",
    "def main():\n",
    "    pipeline.run()\n",
    "\n",
    "\n",
    "if __name__ == \"__main__\" and is_interactive_mode():\n",
    "    # prevent run during doc building\n",
    "    main()"
   ]
  }
 ],
 "metadata": {
  "jupytext": {
   "cell_metadata_filter": "-all",
   "main_language": "python",
   "notebook_metadata_filter": "-all",
   "text_representation": {
    "extension": ".py",
    "format_name": "percent"
   }
  },
  "language_info": {
   "codemirror_mode": {
    "name": "ipython",
    "version": 3
   },
   "file_extension": ".py",
   "mimetype": "text/x-python",
   "name": "python",
   "nbconvert_exporter": "python",
   "pygments_lexer": "ipython3",
   "version": "3.9.18"
  }
 },
 "nbformat": 4,
 "nbformat_minor": 5
}
