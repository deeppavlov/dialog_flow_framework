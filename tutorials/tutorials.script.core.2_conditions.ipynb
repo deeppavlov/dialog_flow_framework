{
 "cells": [
  {
   "cell_type": "markdown",
   "id": "dc64ae98",
   "metadata": {
    "cell_marker": "\"\"\""
   },
   "source": [
    "# Core: 2. Conditions\n",
    "\n",
    "This tutorial shows different options for\n",
    "setting transition conditions from one node to another.\n",
    "\n",
    "Here, [conditions](../apiref/dff.script.conditions.std_conditions.rst)\n",
    "for script transitions are shown.\n",
    "\n",
    "First of all, let's do all the necessary imports from DFF."
   ]
  },
  {
   "cell_type": "code",
   "execution_count": 1,
   "id": "2f90720d",
   "metadata": {
    "execution": {
     "iopub.execute_input": "2024-03-01T20:00:00.690592Z",
     "iopub.status.busy": "2024-03-01T20:00:00.690167Z",
     "iopub.status.idle": "2024-03-01T20:00:02.935685Z",
     "shell.execute_reply": "2024-03-01T20:00:02.934836Z"
    }
   },
   "outputs": [
    {
     "name": "stdout",
     "output_type": "stream",
     "text": [
      "Note: you may need to restart the kernel to use updated packages.\n"
     ]
    }
   ],
   "source": [
    "# installing dependencies\n",
    "%pip install -q dff"
   ]
  },
  {
   "cell_type": "code",
   "execution_count": 2,
   "id": "9f8f030c",
   "metadata": {
    "execution": {
     "iopub.execute_input": "2024-03-01T20:00:02.939099Z",
     "iopub.status.busy": "2024-03-01T20:00:02.938549Z",
     "iopub.status.idle": "2024-03-01T20:00:03.638718Z",
     "shell.execute_reply": "2024-03-01T20:00:03.638073Z"
    }
   },
   "outputs": [],
   "source": [
    "import re\n",
    "\n",
    "from dff.script import Context, TRANSITIONS, RESPONSE, Message\n",
    "import dff.script.conditions as cnd\n",
    "from dff.pipeline import Pipeline\n",
    "\n",
    "from dff.utils.testing.common import (\n",
    "    check_happy_path,\n",
    "    is_interactive_mode,\n",
    "    run_interactive_mode,\n",
    ")"
   ]
  },
  {
   "cell_type": "markdown",
   "id": "8f936a95",
   "metadata": {
    "cell_marker": "\"\"\""
   },
   "source": [
    "The transition condition is set by the function.\n",
    "If this function returns the value `True`,\n",
    "then the actor performs the corresponding transition.\n",
    "Actor is responsible for processing user input and determining the appropriate\n",
    "response based on the current state of the conversation and the script.\n",
    "See tutorial 1 of pipeline (pipeline/1_basics) to learn more about Actor.\n",
    "Condition functions have signature\n",
    "\n",
    "    def func(ctx: Context, pipeline: Pipeline) -> bool\n",
    "\n",
    "Out of the box `dff.script.conditions` offers the\n",
    "    following options for setting conditions:\n",
    "\n",
    "* `exact_match` returns `True` if the user's request completely\n",
    "    matches the value passed to the function.\n",
    "* `regexp` returns `True` if the pattern matches the user's request,\n",
    "    while the user's request must be a string.\n",
    "    `regexp` has same signature as `re.compile` function.\n",
    "* `aggregate` returns `bool` value as\n",
    "    a result after aggregate by `aggregate_func`\n",
    "    for input sequence of conditions.\n",
    "    `aggregate_func == any` by default. `aggregate` has alias `agg`.\n",
    "* `any` returns `True` if one element of input sequence of conditions is `True`.\n",
    "    `any(input_sequence)` is equivalent to\n",
    "    `aggregate(input sequence, aggregate_func=any)`.\n",
    "* `all` returns `True` if all elements of input\n",
    "    sequence of conditions are `True`.\n",
    "    `all(input_sequence)` is equivalent to\n",
    "    `aggregate(input sequence, aggregate_func=all)`.\n",
    "* `negation` returns negation of passed function. `negation` has alias `neg`.\n",
    "* `has_last_labels` covered in the following examples.\n",
    "* `true` returns `True`.\n",
    "* `false` returns `False`.\n",
    "\n",
    "For example function\n",
    "```\n",
    "def always_true_condition(ctx: Context, pipeline: Pipeline) -> bool:\n",
    "    return True\n",
    "```\n",
    "always returns `True` and `always_true_condition` function\n",
    "is the same as `dff.script.conditions.std_conditions.true()`.\n",
    "\n",
    "The functions to be used in the `toy_script` are declared here."
   ]
  },
  {
   "cell_type": "code",
   "execution_count": 3,
   "id": "57beba4d",
   "metadata": {
    "execution": {
     "iopub.execute_input": "2024-03-01T20:00:03.642168Z",
     "iopub.status.busy": "2024-03-01T20:00:03.641611Z",
     "iopub.status.idle": "2024-03-01T20:00:03.647267Z",
     "shell.execute_reply": "2024-03-01T20:00:03.646663Z"
    }
   },
   "outputs": [],
   "source": [
    "def hi_lower_case_condition(ctx: Context, _: Pipeline) -> bool:\n",
    "    request = ctx.last_request\n",
    "    # Returns True if `hi` in both uppercase and lowercase\n",
    "    # letters is contained in the user request.\n",
    "    if request is None or request.text is None:\n",
    "        return False\n",
    "    return \"hi\" in request.text.lower()\n",
    "\n",
    "\n",
    "def complex_user_answer_condition(ctx: Context, _: Pipeline) -> bool:\n",
    "    request = ctx.last_request\n",
    "    # The user request can be anything.\n",
    "    if request is None or request.misc is None:\n",
    "        return False\n",
    "    return {\"some_key\": \"some_value\"} == request.misc\n",
    "\n",
    "\n",
    "def predetermined_condition(condition: bool):\n",
    "    # Wrapper for internal condition function.\n",
    "    def internal_condition_function(ctx: Context, _: Pipeline) -> bool:\n",
    "        # It always returns `condition`.\n",
    "        return condition\n",
    "\n",
    "    return internal_condition_function"
   ]
  },
  {
   "cell_type": "code",
   "execution_count": 4,
   "id": "6b943dc0",
   "metadata": {
    "execution": {
     "iopub.execute_input": "2024-03-01T20:00:03.650068Z",
     "iopub.status.busy": "2024-03-01T20:00:03.649672Z",
     "iopub.status.idle": "2024-03-01T20:00:03.659776Z",
     "shell.execute_reply": "2024-03-01T20:00:03.659142Z"
    }
   },
   "outputs": [],
   "source": [
    "toy_script = {\n",
    "    \"greeting_flow\": {\n",
    "        \"start_node\": {  # This is the initial node,\n",
    "            # it doesn't contain a `RESPONSE`.\n",
    "            RESPONSE: Message(),\n",
    "            TRANSITIONS: {\"node1\": cnd.exact_match(Message(\"Hi\"))},\n",
    "            # If \"Hi\" == request of user then we make the transition\n",
    "        },\n",
    "        \"node1\": {\n",
    "            RESPONSE: Message(\"Hi, how are you?\"),\n",
    "            TRANSITIONS: {\"node2\": cnd.regexp(r\".*how are you\", re.IGNORECASE)},\n",
    "            # pattern matching (precompiled)\n",
    "        },\n",
    "        \"node2\": {\n",
    "            RESPONSE: Message(\"Good. What do you want to talk about?\"),\n",
    "            TRANSITIONS: {\n",
    "                \"node3\": cnd.all(\n",
    "                    [cnd.regexp(r\"talk\"), cnd.regexp(r\"about.*music\")]\n",
    "                )\n",
    "            },\n",
    "            # Mix sequence of conditions by `cnd.all`.\n",
    "            # `all` is alias `aggregate` with\n",
    "            # `aggregate_func` == `all`.\n",
    "        },\n",
    "        \"node3\": {\n",
    "            RESPONSE: Message(\"Sorry, I can not talk about music now.\"),\n",
    "            TRANSITIONS: {\"node4\": cnd.regexp(re.compile(r\"Ok, goodbye.\"))},\n",
    "            # pattern matching by precompiled pattern\n",
    "        },\n",
    "        \"node4\": {\n",
    "            RESPONSE: Message(\"bye\"),\n",
    "            TRANSITIONS: {\n",
    "                \"node1\": cnd.any(\n",
    "                    [\n",
    "                        hi_lower_case_condition,\n",
    "                        cnd.exact_match(Message(\"hello\")),\n",
    "                    ]\n",
    "                )\n",
    "            },\n",
    "            # Mix sequence of conditions by `cnd.any`.\n",
    "            # `any` is alias `aggregate` with\n",
    "            # `aggregate_func` == `any`.\n",
    "        },\n",
    "        \"fallback_node\": {  # We get to this node\n",
    "            # if an error occurred while the agent was running.\n",
    "            RESPONSE: Message(\"Ooops\"),\n",
    "            TRANSITIONS: {\n",
    "                \"node1\": complex_user_answer_condition,\n",
    "                # The user request can be more than just a string.\n",
    "                # First we will check returned value of\n",
    "                # `complex_user_answer_condition`.\n",
    "                # If the value is `True` then we will go to `node1`.\n",
    "                # If the value is `False` then we will check a result of\n",
    "                # `predetermined_condition(True)` for `fallback_node`.\n",
    "                \"fallback_node\": predetermined_condition(\n",
    "                    True\n",
    "                ),  # or you can use `cnd.true()`\n",
    "                # Last condition function will return\n",
    "                # `true` and will repeat `fallback_node`\n",
    "                # if `complex_user_answer_condition` return `false`.\n",
    "            },\n",
    "        },\n",
    "    }\n",
    "}\n",
    "\n",
    "# testing\n",
    "happy_path = (\n",
    "    (\n",
    "        Message(\"Hi\"),\n",
    "        Message(\"Hi, how are you?\"),\n",
    "    ),  # start_node -> node1\n",
    "    (\n",
    "        Message(\"i'm fine, how are you?\"),\n",
    "        Message(\"Good. What do you want to talk about?\"),\n",
    "    ),  # node1 -> node2\n",
    "    (\n",
    "        Message(\"Let's talk about music.\"),\n",
    "        Message(\"Sorry, I can not talk about music now.\"),\n",
    "    ),  # node2 -> node3\n",
    "    (Message(\"Ok, goodbye.\"), Message(\"bye\")),  # node3 -> node4\n",
    "    (Message(\"Hi\"), Message(\"Hi, how are you?\")),  # node4 -> node1\n",
    "    (Message(\"stop\"), Message(\"Ooops\")),  # node1 -> fallback_node\n",
    "    (\n",
    "        Message(\"one\"),\n",
    "        Message(\"Ooops\"),\n",
    "    ),  # fallback_node -> fallback_node\n",
    "    (\n",
    "        Message(\"help\"),\n",
    "        Message(\"Ooops\"),\n",
    "    ),  # fallback_node -> fallback_node\n",
    "    (\n",
    "        Message(\"nope\"),\n",
    "        Message(\"Ooops\"),\n",
    "    ),  # fallback_node -> fallback_node\n",
    "    (\n",
    "        Message(misc={\"some_key\": \"some_value\"}),\n",
    "        Message(\"Hi, how are you?\"),\n",
    "    ),  # fallback_node -> node1\n",
    "    (\n",
    "        Message(\"i'm fine, how are you?\"),\n",
    "        Message(\"Good. What do you want to talk about?\"),\n",
    "    ),  # node1 -> node2\n",
    "    (\n",
    "        Message(\"Let's talk about music.\"),\n",
    "        Message(\"Sorry, I can not talk about music now.\"),\n",
    "    ),  # node2 -> node3\n",
    "    (Message(\"Ok, goodbye.\"), Message(\"bye\")),  # node3 -> node4\n",
    ")"
   ]
  },
  {
   "cell_type": "code",
   "execution_count": 5,
   "id": "6c32eaa6",
   "metadata": {
    "execution": {
     "iopub.execute_input": "2024-03-01T20:00:03.662684Z",
     "iopub.status.busy": "2024-03-01T20:00:03.662238Z",
     "iopub.status.idle": "2024-03-01T20:00:03.686434Z",
     "shell.execute_reply": "2024-03-01T20:00:03.685708Z"
    }
   },
   "outputs": [
    {
     "name": "stdout",
     "output_type": "stream",
     "text": [
      "(user) >>> text='Hi'\n",
      " (bot) <<< text='Hi, how are you?'\n",
      "(user) >>> text='i'm fine, how are you?'\n",
      " (bot) <<< text='Good. What do you want to talk about?'\n",
      "(user) >>> text='Let's talk about music.'\n",
      " (bot) <<< text='Sorry, I can not talk about music now.'\n",
      "(user) >>> text='Ok, goodbye.'\n",
      " (bot) <<< text='bye'\n",
      "(user) >>> text='Hi'\n",
      " (bot) <<< text='Hi, how are you?'\n",
      "(user) >>> text='stop'\n",
      " (bot) <<< text='Ooops'\n",
      "(user) >>> text='one'\n",
      " (bot) <<< text='Ooops'\n",
      "(user) >>> text='help'\n",
      " (bot) <<< text='Ooops'\n",
      "(user) >>> text='nope'\n",
      " (bot) <<< text='Ooops'\n",
      "(user) >>> misc='{'some_key': 'some_value'}'\n",
      " (bot) <<< text='Hi, how are you?'\n",
      "(user) >>> text='i'm fine, how are you?'\n",
      " (bot) <<< text='Good. What do you want to talk about?'\n",
      "(user) >>> text='Let's talk about music.'\n",
      " (bot) <<< text='Sorry, I can not talk about music now.'\n",
      "(user) >>> text='Ok, goodbye.'\n",
      " (bot) <<< text='bye'\n"
     ]
    }
   ],
   "source": [
    "pipeline = Pipeline.from_script(\n",
    "    toy_script,\n",
    "    start_label=(\"greeting_flow\", \"start_node\"),\n",
    "    fallback_label=(\"greeting_flow\", \"fallback_node\"),\n",
    ")\n",
    "\n",
    "if __name__ == \"__main__\":\n",
    "    check_happy_path(pipeline, happy_path)\n",
    "    if is_interactive_mode():\n",
    "        run_interactive_mode(pipeline)"
   ]
  }
 ],
 "metadata": {
  "jupytext": {
   "cell_metadata_filter": "-all",
   "main_language": "python",
   "notebook_metadata_filter": "-all",
   "text_representation": {
    "extension": ".py",
    "format_name": "percent"
   }
  },
  "language_info": {
   "codemirror_mode": {
    "name": "ipython",
    "version": 3
   },
   "file_extension": ".py",
   "mimetype": "text/x-python",
   "name": "python",
   "nbconvert_exporter": "python",
   "pygments_lexer": "ipython3",
   "version": "3.9.18"
  }
 },
 "nbformat": 4,
 "nbformat_minor": 5
}
