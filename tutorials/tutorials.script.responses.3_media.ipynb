{
 "cells": [
  {
   "cell_type": "markdown",
   "id": "e0350675",
   "metadata": {
    "cell_marker": "\"\"\""
   },
   "source": [
    "# Responses: 3. Media\n",
    "\n",
    "Here, [Attachments](../apiref/dff.script.core.message.rst#dff.script.core.message.Attachments) class is shown.\n",
    "Attachments can be used for attaching different media elements\n",
    "(such as [Image](../apiref/dff.script.core.message.rst#dff.script.core.message.Image),\n",
    "[Document](../apiref/dff.script.core.message.rst#dff.script.core.message.Document)\n",
    "or [Audio](../apiref/dff.script.core.message.rst#dff.script.core.message.Audio)).\n",
    "\n",
    "They can be attached to any message but will only work if the chosen\n",
    "[messenger interface](../apiref/index_messenger_interfaces.rst) supports them."
   ]
  },
  {
   "cell_type": "code",
   "execution_count": 1,
   "id": "500d3920",
   "metadata": {
    "execution": {
     "iopub.execute_input": "2024-03-01T20:00:39.630626Z",
     "iopub.status.busy": "2024-03-01T20:00:39.630153Z",
     "iopub.status.idle": "2024-03-01T20:00:42.005249Z",
     "shell.execute_reply": "2024-03-01T20:00:42.004229Z"
    }
   },
   "outputs": [
    {
     "name": "stdout",
     "output_type": "stream",
     "text": [
      "Note: you may need to restart the kernel to use updated packages.\n"
     ]
    }
   ],
   "source": [
    "# installing dependencies\n",
    "%pip install -q dff"
   ]
  },
  {
   "cell_type": "code",
   "execution_count": 2,
   "id": "d9428440",
   "metadata": {
    "execution": {
     "iopub.execute_input": "2024-03-01T20:00:42.008531Z",
     "iopub.status.busy": "2024-03-01T20:00:42.008032Z",
     "iopub.status.idle": "2024-03-01T20:00:42.708178Z",
     "shell.execute_reply": "2024-03-01T20:00:42.707451Z"
    },
    "lines_to_next_cell": 2
   },
   "outputs": [],
   "source": [
    "from dff.script import RESPONSE, TRANSITIONS\n",
    "from dff.script.conditions import std_conditions as cnd\n",
    "\n",
    "from dff.script.core.message import Attachments, Image, Message\n",
    "\n",
    "from dff.pipeline import Pipeline\n",
    "from dff.utils.testing import (\n",
    "    check_happy_path,\n",
    "    is_interactive_mode,\n",
    "    run_interactive_mode,\n",
    ")"
   ]
  },
  {
   "cell_type": "code",
   "execution_count": 3,
   "id": "c4baa7a2",
   "metadata": {
    "execution": {
     "iopub.execute_input": "2024-03-01T20:00:42.711918Z",
     "iopub.status.busy": "2024-03-01T20:00:42.711317Z",
     "iopub.status.idle": "2024-03-01T20:00:42.722193Z",
     "shell.execute_reply": "2024-03-01T20:00:42.721612Z"
    },
    "lines_to_next_cell": 2
   },
   "outputs": [],
   "source": [
    "img_url = \"https://www.python.org/static/img/python-logo.png\"\n",
    "toy_script = {\n",
    "    \"root\": {\n",
    "        \"start\": {\n",
    "            RESPONSE: Message(\"\"),\n",
    "            TRANSITIONS: {(\"pics\", \"ask_picture\"): cnd.true()},\n",
    "        },\n",
    "        \"fallback\": {\n",
    "            RESPONSE: Message(\n",
    "                text=\"Final node reached, send any message to restart.\"\n",
    "            ),\n",
    "            TRANSITIONS: {(\"pics\", \"ask_picture\"): cnd.true()},\n",
    "        },\n",
    "    },\n",
    "    \"pics\": {\n",
    "        \"ask_picture\": {\n",
    "            RESPONSE: Message(\"Please, send me a picture url\"),\n",
    "            TRANSITIONS: {\n",
    "                (\"pics\", \"send_one\", 1.1): cnd.regexp(r\"^http.+\\.png$\"),\n",
    "                (\"pics\", \"send_many\", 1.0): cnd.regexp(\n",
    "                    f\"{img_url} repeat 10 times\"\n",
    "                ),\n",
    "                (\"pics\", \"repeat\", 0.9): cnd.true(),\n",
    "            },\n",
    "        },\n",
    "        \"send_one\": {\n",
    "            RESPONSE: Message(\n",
    "                text=\"here's my picture!\",\n",
    "                attachments=Attachments(files=[Image(source=img_url)]),\n",
    "            ),\n",
    "            TRANSITIONS: {(\"root\", \"fallback\"): cnd.true()},\n",
    "        },\n",
    "        \"send_many\": {\n",
    "            RESPONSE: Message(\n",
    "                text=\"Look at my pictures\",\n",
    "                attachments=Attachments(files=[Image(source=img_url)] * 10),\n",
    "            ),\n",
    "            TRANSITIONS: {(\"root\", \"fallback\"): cnd.true()},\n",
    "        },\n",
    "        \"repeat\": {\n",
    "            RESPONSE: Message(\n",
    "                text=\"I cannot find the picture. Please, try again.\"\n",
    "            ),\n",
    "            TRANSITIONS: {\n",
    "                (\"pics\", \"send_one\", 1.1): cnd.regexp(r\"^http.+\\.png$\"),\n",
    "                (\"pics\", \"send_many\", 1.0): cnd.regexp(\n",
    "                    r\"^http.+\\.png repeat 10 times\"\n",
    "                ),\n",
    "                (\"pics\", \"repeat\", 0.9): cnd.true(),\n",
    "            },\n",
    "        },\n",
    "    },\n",
    "}\n",
    "\n",
    "happy_path = (\n",
    "    (Message(\"Hi\"), Message(\"Please, send me a picture url\")),\n",
    "    (\n",
    "        Message(\"no\"),\n",
    "        Message(\"I cannot find the picture. Please, try again.\"),\n",
    "    ),\n",
    "    (\n",
    "        Message(img_url),\n",
    "        Message(\n",
    "            text=\"here's my picture!\",\n",
    "            attachments=Attachments(files=[Image(source=img_url)]),\n",
    "        ),\n",
    "    ),\n",
    "    (\n",
    "        Message(\"ok\"),\n",
    "        Message(\"Final node reached, send any message to restart.\"),\n",
    "    ),\n",
    "    (Message(\"ok\"), Message(\"Please, send me a picture url\")),\n",
    "    (\n",
    "        Message(f\"{img_url} repeat 10 times\"),\n",
    "        Message(\n",
    "            text=\"Look at my pictures\",\n",
    "            attachments=Attachments(files=[Image(source=img_url)] * 10),\n",
    "        ),\n",
    "    ),\n",
    "    (\n",
    "        Message(\"ok\"),\n",
    "        Message(\"Final node reached, send any message to restart.\"),\n",
    "    ),\n",
    ")"
   ]
  },
  {
   "cell_type": "code",
   "execution_count": 4,
   "id": "e19e47f1",
   "metadata": {
    "execution": {
     "iopub.execute_input": "2024-03-01T20:00:42.724879Z",
     "iopub.status.busy": "2024-03-01T20:00:42.724658Z",
     "iopub.status.idle": "2024-03-01T20:00:43.179222Z",
     "shell.execute_reply": "2024-03-01T20:00:43.178387Z"
    }
   },
   "outputs": [
    {
     "name": "stdout",
     "output_type": "stream",
     "text": [
      "(user) >>> text='Hi'\n",
      " (bot) <<< text='Please, send me a picture url'\n",
      "(user) >>> text='no'\n",
      " (bot) <<< text='I cannot find the picture. Please, try again.'\n",
      "(user) >>> text='https://www.python.org/static/img/python-logo.png'\n",
      " (bot) <<< text='here's my picture!' attachments='{'files': [{'source': Url('https://www.python.org/static/img/python-logo.png')}]}'\n"
     ]
    },
    {
     "name": "stdout",
     "output_type": "stream",
     "text": [
      "(user) >>> text='ok'\n",
      " (bot) <<< text='Final node reached, send any message to restart.'\n",
      "(user) >>> text='ok'\n",
      " (bot) <<< text='Please, send me a picture url'\n",
      "(user) >>> text='https://www.python.org/static/img/python-logo.png repeat 10 times'\n",
      " (bot) <<< text='Look at my pictures' attachments='{'files': [{'source': Url('https://www.python.org/static/img/python-logo.png')}, {'source': Url('https://www.python.org/static/img/python-logo.png')}, {'source': Url('https://www.python.org/static/img/python-logo.png')}, {'source': Url('https://www.python.org/static/img/python-logo.png')}, {'source': Url('https://www.python.org/static/img/python-logo.png')}, {'source': Url('https://www.python.org/static/img/python-logo.png')}, {'source': Url('https://www.python.org/static/img/python-logo.png')}, {'source': Url('https://www.python.org/static/img/python-logo.png')}, {'source': Url('https://www.python.org/static/img/python-logo.png')}, {'source': Url('https://www.python.org/static/img/python-logo.png')}]}'\n"
     ]
    },
    {
     "name": "stdout",
     "output_type": "stream",
     "text": [
      "(user) >>> text='ok'\n",
      " (bot) <<< text='Final node reached, send any message to restart.'\n"
     ]
    }
   ],
   "source": [
    "pipeline = Pipeline.from_script(\n",
    "    toy_script,\n",
    "    start_label=(\"root\", \"start\"),\n",
    "    fallback_label=(\"root\", \"fallback\"),\n",
    ")\n",
    "\n",
    "if __name__ == \"__main__\":\n",
    "    check_happy_path(pipeline, happy_path)\n",
    "    if is_interactive_mode():\n",
    "        run_interactive_mode(pipeline)"
   ]
  }
 ],
 "metadata": {
  "jupytext": {
   "cell_metadata_filter": "-all",
   "main_language": "python",
   "notebook_metadata_filter": "-all",
   "text_representation": {
    "extension": ".py",
    "format_name": "percent"
   }
  },
  "language_info": {
   "codemirror_mode": {
    "name": "ipython",
    "version": 3
   },
   "file_extension": ".py",
   "mimetype": "text/x-python",
   "name": "python",
   "nbconvert_exporter": "python",
   "pygments_lexer": "ipython3",
   "version": "3.9.18"
  }
 },
 "nbformat": 4,
 "nbformat_minor": 5
}
