{
 "cells": [
  {
   "cell_type": "markdown",
   "id": "5710573a",
   "metadata": {
    "cell_marker": "\"\"\""
   },
   "source": [
    "# Responses: 4. Multi Message\n",
    "\n",
    "This tutorial shows how to store several messages inside a single one.\n",
    "This might be useful if you want DFF Pipeline to send `response` candidates\n",
    "to the messenger interface instead of a final response.\n",
    "\n",
    "However, this approach is not recommended due to history incompleteness."
   ]
  },
  {
   "cell_type": "code",
   "execution_count": 1,
   "id": "0825b07f",
   "metadata": {
    "execution": {
     "iopub.execute_input": "2024-03-01T20:00:44.828559Z",
     "iopub.status.busy": "2024-03-01T20:00:44.828306Z",
     "iopub.status.idle": "2024-03-01T20:00:47.180904Z",
     "shell.execute_reply": "2024-03-01T20:00:47.179993Z"
    }
   },
   "outputs": [
    {
     "name": "stdout",
     "output_type": "stream",
     "text": [
      "Note: you may need to restart the kernel to use updated packages.\n"
     ]
    }
   ],
   "source": [
    "# installing dependencies\n",
    "%pip install -q dff"
   ]
  },
  {
   "cell_type": "code",
   "execution_count": 2,
   "id": "797770e3",
   "metadata": {
    "execution": {
     "iopub.execute_input": "2024-03-01T20:00:47.184165Z",
     "iopub.status.busy": "2024-03-01T20:00:47.183587Z",
     "iopub.status.idle": "2024-03-01T20:00:47.843886Z",
     "shell.execute_reply": "2024-03-01T20:00:47.843155Z"
    }
   },
   "outputs": [],
   "source": [
    "\n",
    "from dff.script import TRANSITIONS, RESPONSE, Message\n",
    "import dff.script.conditions as cnd\n",
    "\n",
    "from dff.pipeline import Pipeline\n",
    "from dff.utils.testing.common import (\n",
    "    check_happy_path,\n",
    "    is_interactive_mode,\n",
    "    run_interactive_mode,\n",
    ")"
   ]
  },
  {
   "cell_type": "code",
   "execution_count": 3,
   "id": "9f48cea8",
   "metadata": {
    "execution": {
     "iopub.execute_input": "2024-03-01T20:00:47.847506Z",
     "iopub.status.busy": "2024-03-01T20:00:47.846937Z",
     "iopub.status.idle": "2024-03-01T20:00:47.857619Z",
     "shell.execute_reply": "2024-03-01T20:00:47.856947Z"
    }
   },
   "outputs": [],
   "source": [
    "toy_script = {\n",
    "    \"greeting_flow\": {\n",
    "        \"start_node\": {  # This is an initial node,\n",
    "            TRANSITIONS: {\"node1\": cnd.exact_match(Message(\"Hi\"))},\n",
    "            # If \"Hi\" == request of user then we make the transition\n",
    "        },\n",
    "        \"node1\": {\n",
    "            RESPONSE: Message(\n",
    "                misc={\n",
    "                    \"messages\": [\n",
    "                        Message(\"Hi, what is up?\", misc={\"confidences\": 0.85}),\n",
    "                        Message(\n",
    "                            text=\"Hello, how are you?\",\n",
    "                            misc={\"confidences\": 0.9},\n",
    "                        ),\n",
    "                    ]\n",
    "                }\n",
    "            ),\n",
    "            TRANSITIONS: {\n",
    "                \"node2\": cnd.exact_match(Message(\"I'm fine, how are you?\"))\n",
    "            },\n",
    "        },\n",
    "        \"node2\": {\n",
    "            RESPONSE: Message(\"Good. What do you want to talk about?\"),\n",
    "            TRANSITIONS: {\n",
    "                \"node3\": cnd.exact_match(Message(\"Let's talk about music.\"))\n",
    "            },\n",
    "        },\n",
    "        \"node3\": {\n",
    "            RESPONSE: Message(\"Sorry, I can not talk about that now.\"),\n",
    "            TRANSITIONS: {\"node4\": cnd.exact_match(Message(\"Ok, goodbye.\"))},\n",
    "        },\n",
    "        \"node4\": {\n",
    "            RESPONSE: Message(\"bye\"),\n",
    "            TRANSITIONS: {\"node1\": cnd.exact_match(Message(\"Hi\"))},\n",
    "        },\n",
    "        \"fallback_node\": {  # We get to this node\n",
    "            # if an error occurred while the agent was running.\n",
    "            RESPONSE: Message(\"Ooops\"),\n",
    "            TRANSITIONS: {\"node1\": cnd.exact_match(Message(\"Hi\"))},\n",
    "        },\n",
    "    }\n",
    "}\n",
    "\n",
    "# testing\n",
    "happy_path = (\n",
    "    (\n",
    "        Message(\"Hi\"),\n",
    "        Message(\n",
    "            misc={\n",
    "                \"messages\": [\n",
    "                    Message(\"Hi, what is up?\", misc={\"confidences\": 0.85}),\n",
    "                    Message(\n",
    "                        text=\"Hello, how are you?\", misc={\"confidences\": 0.9}\n",
    "                    ),\n",
    "                ]\n",
    "            }\n",
    "        ),\n",
    "    ),  # start_node -> node1\n",
    "    (\n",
    "        Message(\"I'm fine, how are you?\"),\n",
    "        Message(\"Good. What do you want to talk about?\"),\n",
    "    ),  # node1 -> node2\n",
    "    (\n",
    "        Message(\"Let's talk about music.\"),\n",
    "        Message(\"Sorry, I can not talk about that now.\"),\n",
    "    ),  # node2 -> node3\n",
    "    (Message(\"Ok, goodbye.\"), Message(\"bye\")),  # node3 -> node4\n",
    "    (\n",
    "        Message(\"Hi\"),\n",
    "        Message(\n",
    "            misc={\n",
    "                \"messages\": [\n",
    "                    Message(\"Hi, what is up?\", misc={\"confidences\": 0.85}),\n",
    "                    Message(\n",
    "                        text=\"Hello, how are you?\", misc={\"confidences\": 0.9}\n",
    "                    ),\n",
    "                ]\n",
    "            }\n",
    "        ),\n",
    "    ),  # node4 -> node1\n",
    "    (\n",
    "        Message(\"stop\"),\n",
    "        Message(\"Ooops\"),\n",
    "    ),\n",
    "    # node1 -> fallback_node\n",
    "    (\n",
    "        Message(\"one\"),\n",
    "        Message(\"Ooops\"),\n",
    "    ),  # f_n->f_n\n",
    "    (\n",
    "        Message(\"help\"),\n",
    "        Message(\"Ooops\"),\n",
    "    ),  # f_n->f_n\n",
    "    (\n",
    "        Message(\"nope\"),\n",
    "        Message(\"Ooops\"),\n",
    "    ),  # f_n->f_n\n",
    "    (\n",
    "        Message(\"Hi\"),\n",
    "        Message(\n",
    "            misc={\n",
    "                \"messages\": [\n",
    "                    Message(\"Hi, what is up?\", misc={\"confidences\": 0.85}),\n",
    "                    Message(\n",
    "                        text=\"Hello, how are you?\", misc={\"confidences\": 0.9}\n",
    "                    ),\n",
    "                ]\n",
    "            }\n",
    "        ),\n",
    "    ),  # fallback_node -> node1\n",
    "    (\n",
    "        Message(\"I'm fine, how are you?\"),\n",
    "        Message(\"Good. What do you want to talk about?\"),\n",
    "    ),  # node1 -> node2\n",
    "    (\n",
    "        Message(\"Let's talk about music.\"),\n",
    "        Message(\"Sorry, I can not talk about that now.\"),\n",
    "    ),  # node2 -> node3\n",
    "    (Message(\"Ok, goodbye.\"), Message(\"bye\")),  # node3 -> node4\n",
    ")"
   ]
  },
  {
   "cell_type": "code",
   "execution_count": 4,
   "id": "24276f5f",
   "metadata": {
    "execution": {
     "iopub.execute_input": "2024-03-01T20:00:47.860075Z",
     "iopub.status.busy": "2024-03-01T20:00:47.859851Z",
     "iopub.status.idle": "2024-03-01T20:00:47.882657Z",
     "shell.execute_reply": "2024-03-01T20:00:47.882030Z"
    }
   },
   "outputs": [
    {
     "name": "stdout",
     "output_type": "stream",
     "text": [
      "(user) >>> text='Hi'\n",
      " (bot) <<< misc='{'messages': [{'text': 'Hi, what is up?', 'misc': {'confidences': 0.85}}, {'text': 'Hello, how are you?', 'misc': {'confidences': 0.9}}]}'\n",
      "(user) >>> text='I'm fine, how are you?'\n",
      " (bot) <<< text='Good. What do you want to talk about?'\n",
      "(user) >>> text='Let's talk about music.'\n",
      " (bot) <<< text='Sorry, I can not talk about that now.'\n",
      "(user) >>> text='Ok, goodbye.'\n",
      " (bot) <<< text='bye'\n",
      "(user) >>> text='Hi'\n",
      " (bot) <<< misc='{'messages': [{'text': 'Hi, what is up?', 'misc': {'confidences': 0.85}}, {'text': 'Hello, how are you?', 'misc': {'confidences': 0.9}}]}'\n",
      "(user) >>> text='stop'\n",
      " (bot) <<< text='Ooops'\n",
      "(user) >>> text='one'\n",
      " (bot) <<< text='Ooops'\n",
      "(user) >>> text='help'\n",
      " (bot) <<< text='Ooops'\n",
      "(user) >>> text='nope'\n",
      " (bot) <<< text='Ooops'\n",
      "(user) >>> text='Hi'\n",
      " (bot) <<< misc='{'messages': [{'text': 'Hi, what is up?', 'misc': {'confidences': 0.85}}, {'text': 'Hello, how are you?', 'misc': {'confidences': 0.9}}]}'\n",
      "(user) >>> text='I'm fine, how are you?'\n",
      " (bot) <<< text='Good. What do you want to talk about?'\n",
      "(user) >>> text='Let's talk about music.'\n",
      " (bot) <<< text='Sorry, I can not talk about that now.'\n",
      "(user) >>> text='Ok, goodbye.'\n",
      " (bot) <<< text='bye'\n"
     ]
    }
   ],
   "source": [
    "\n",
    "pipeline = Pipeline.from_script(\n",
    "    toy_script,\n",
    "    start_label=(\"greeting_flow\", \"start_node\"),\n",
    "    fallback_label=(\"greeting_flow\", \"fallback_node\"),\n",
    ")\n",
    "\n",
    "if __name__ == \"__main__\":\n",
    "    check_happy_path(pipeline, happy_path)\n",
    "    if is_interactive_mode():\n",
    "        run_interactive_mode(pipeline)"
   ]
  }
 ],
 "metadata": {
  "jupytext": {
   "cell_metadata_filter": "-all",
   "main_language": "python",
   "notebook_metadata_filter": "-all",
   "text_representation": {
    "extension": ".py",
    "format_name": "percent"
   }
  },
  "language_info": {
   "codemirror_mode": {
    "name": "ipython",
    "version": 3
   },
   "file_extension": ".py",
   "mimetype": "text/x-python",
   "name": "python",
   "nbconvert_exporter": "python",
   "pygments_lexer": "ipython3",
   "version": "3.9.18"
  }
 },
 "nbformat": 4,
 "nbformat_minor": 5
}
