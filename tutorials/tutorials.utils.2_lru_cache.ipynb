{
 "cells": [
  {
   "cell_type": "markdown",
   "id": "3639f8a7",
   "metadata": {
    "cell_marker": "\"\"\""
   },
   "source": [
    "# 2. LRU Cache\n",
    "\n",
    "In this tutorial use of\n",
    "[lru_cache](../apiref/dff.utils.turn_caching.singleton_turn_caching.rst#dff.utils.turn_caching.singleton_turn_caching.lru_cache)\n",
    "function is demonstrated.\n",
    "\n",
    "This function is used a lot like `functools.lru_cache` function and\n",
    "helps by saving results of heavy function execution and avoiding recalculation.\n",
    "\n",
    "Caches are kept in a library-wide singleton\n",
    "and are cleared at the end of each turn.\n",
    "\n",
    "Maximum size parameter limits the amount of function execution results cached."
   ]
  },
  {
   "cell_type": "code",
   "execution_count": 1,
   "id": "c569dc56",
   "metadata": {
    "execution": {
     "iopub.execute_input": "2024-03-01T20:01:04.520088Z",
     "iopub.status.busy": "2024-03-01T20:01:04.519420Z",
     "iopub.status.idle": "2024-03-01T20:01:06.750521Z",
     "shell.execute_reply": "2024-03-01T20:01:06.749701Z"
    }
   },
   "outputs": [
    {
     "name": "stdout",
     "output_type": "stream",
     "text": [
      "Note: you may need to restart the kernel to use updated packages.\n"
     ]
    }
   ],
   "source": [
    "# installing dependencies\n",
    "%pip install -q dff"
   ]
  },
  {
   "cell_type": "code",
   "execution_count": 2,
   "id": "f0f0f88a",
   "metadata": {
    "execution": {
     "iopub.execute_input": "2024-03-01T20:01:06.753635Z",
     "iopub.status.busy": "2024-03-01T20:01:06.753401Z",
     "iopub.status.idle": "2024-03-01T20:01:07.440094Z",
     "shell.execute_reply": "2024-03-01T20:01:07.439435Z"
    }
   },
   "outputs": [],
   "source": [
    "from dff.script.conditions import true\n",
    "from dff.script import Context, TRANSITIONS, RESPONSE, Message\n",
    "from dff.script.labels import repeat\n",
    "from dff.pipeline import Pipeline\n",
    "from dff.utils.turn_caching import lru_cache\n",
    "from dff.utils.testing.common import (\n",
    "    check_happy_path,\n",
    "    is_interactive_mode,\n",
    "    run_interactive_mode,\n",
    ")\n",
    "\n",
    "external_data = {\"counter\": 0}"
   ]
  },
  {
   "cell_type": "code",
   "execution_count": 3,
   "id": "b1030c21",
   "metadata": {
    "execution": {
     "iopub.execute_input": "2024-03-01T20:01:07.443898Z",
     "iopub.status.busy": "2024-03-01T20:01:07.443042Z",
     "iopub.status.idle": "2024-03-01T20:01:07.448368Z",
     "shell.execute_reply": "2024-03-01T20:01:07.447689Z"
    }
   },
   "outputs": [],
   "source": [
    "@lru_cache(maxsize=2)\n",
    "def cached_response(_):\n",
    "    \"\"\"\n",
    "    This function will work exactly the same as the one from previous\n",
    "    tutorial with only one exception.\n",
    "    Only 2 results will be stored;\n",
    "    when the function will be executed with third arguments set,\n",
    "    the least recent result will be deleted.\n",
    "    \"\"\"\n",
    "    external_data[\"counter\"] += 1\n",
    "    return external_data[\"counter\"]\n",
    "\n",
    "\n",
    "def response(ctx: Context, _, *__, **___) -> Message:\n",
    "    if ctx.validation:\n",
    "        return Message()\n",
    "    return Message(\n",
    "        text=f\"{cached_response(1)}-{cached_response(2)}-{cached_response(3)}-\"\n",
    "        f\"{cached_response(2)}-{cached_response(1)}\"\n",
    "    )"
   ]
  },
  {
   "cell_type": "code",
   "execution_count": 4,
   "id": "56577401",
   "metadata": {
    "execution": {
     "iopub.execute_input": "2024-03-01T20:01:07.451169Z",
     "iopub.status.busy": "2024-03-01T20:01:07.450648Z",
     "iopub.status.idle": "2024-03-01T20:01:07.455489Z",
     "shell.execute_reply": "2024-03-01T20:01:07.454860Z"
    }
   },
   "outputs": [],
   "source": [
    "toy_script = {\n",
    "    \"flow\": {\"node1\": {TRANSITIONS: {repeat(): true()}, RESPONSE: response}}\n",
    "}\n",
    "\n",
    "happy_path = (\n",
    "    (Message(), Message(\"1-2-3-2-4\")),\n",
    "    (Message(), Message(\"5-6-7-6-8\")),\n",
    "    (Message(), Message(\"9-10-11-10-12\")),\n",
    ")\n",
    "\n",
    "pipeline = Pipeline.from_script(toy_script, start_label=(\"flow\", \"node1\"))"
   ]
  },
  {
   "cell_type": "code",
   "execution_count": 5,
   "id": "7d034cb4",
   "metadata": {
    "execution": {
     "iopub.execute_input": "2024-03-01T20:01:07.458184Z",
     "iopub.status.busy": "2024-03-01T20:01:07.457766Z",
     "iopub.status.idle": "2024-03-01T20:01:07.470184Z",
     "shell.execute_reply": "2024-03-01T20:01:07.469444Z"
    }
   },
   "outputs": [
    {
     "name": "stdout",
     "output_type": "stream",
     "text": [
      "(user) >>> \n",
      " (bot) <<< text='1-2-3-2-4'\n",
      "(user) >>> \n",
      " (bot) <<< text='5-6-7-6-8'\n",
      "(user) >>> \n",
      " (bot) <<< text='9-10-11-10-12'\n"
     ]
    }
   ],
   "source": [
    "if __name__ == \"__main__\":\n",
    "    check_happy_path(pipeline, happy_path)\n",
    "    if is_interactive_mode():\n",
    "        run_interactive_mode(pipeline)"
   ]
  }
 ],
 "metadata": {
  "jupytext": {
   "cell_metadata_filter": "-all",
   "main_language": "python",
   "notebook_metadata_filter": "-all",
   "text_representation": {
    "extension": ".py",
    "format_name": "percent"
   }
  },
  "language_info": {
   "codemirror_mode": {
    "name": "ipython",
    "version": 3
   },
   "file_extension": ".py",
   "mimetype": "text/x-python",
   "name": "python",
   "nbconvert_exporter": "python",
   "pygments_lexer": "ipython3",
   "version": "3.9.18"
  }
 },
 "nbformat": 4,
 "nbformat_minor": 5
}
